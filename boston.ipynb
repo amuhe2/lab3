{
 "metadata": {
  "name": "",
  "signature": "sha256:264dd44a66c64af9b4784f1ee498f94027f94567744855c040ea6e8057de120d"
 },
 "nbformat": 3,
 "nbformat_minor": 0,
 "worksheets": [
  {
   "cells": [
    {
     "cell_type": "code",
     "collapsed": false,
     "input": [
      "from sklearn import datasets\n",
      "import pandas as pd\n",
      "from sklearn.preprocessing import StandardScaler\n",
      "from sklearn.cross_validation import train_test_split\n",
      "from sklearn.metrics import mean_squared_error\n",
      "from sklearn.metrics import r2_score\n",
      "from sklearn.linear_model import LinearRegression"
     ],
     "language": "python",
     "metadata": {},
     "outputs": [],
     "prompt_number": 1
    },
    {
     "cell_type": "code",
     "collapsed": false,
     "input": [
      "bean = datasets.load_boston()\n",
      "print bean.DESCR"
     ],
     "language": "python",
     "metadata": {},
     "outputs": [
      {
       "output_type": "stream",
       "stream": "stdout",
       "text": [
        "Boston House Prices dataset\n",
        "\n",
        "Notes\n",
        "------\n",
        "Data Set Characteristics:  \n",
        "\n",
        "    :Number of Instances: 506 \n",
        "\n",
        "    :Number of Attributes: 13 numeric/categorical predictive\n",
        "    \n",
        "    :Median Value (attribute 14) is usually the target\n",
        "\n",
        "    :Attribute Information (in order):\n",
        "        - CRIM     per capita crime rate by town\n",
        "        - ZN       proportion of residential land zoned for lots over 25,000 sq.ft.\n",
        "        - INDUS    proportion of non-retail business acres per town\n",
        "        - CHAS     Charles River dummy variable (= 1 if tract bounds river; 0 otherwise)\n",
        "        - NOX      nitric oxides concentration (parts per 10 million)\n",
        "        - RM       average number of rooms per dwelling\n",
        "        - AGE      proportion of owner-occupied units built prior to 1940\n",
        "        - DIS      weighted distances to five Boston employment centres\n",
        "        - RAD      index of accessibility to radial highways\n",
        "        - TAX      full-value property-tax rate per $10,000\n",
        "        - PTRATIO  pupil-teacher ratio by town\n",
        "        - B        1000(Bk - 0.63)^2 where Bk is the proportion of blacks by town\n",
        "        - LSTAT    % lower status of the population\n",
        "        - MEDV     Median value of owner-occupied homes in $1000's\n",
        "\n",
        "    :Missing Attribute Values: None\n",
        "\n",
        "    :Creator: Harrison, D. and Rubinfeld, D.L.\n",
        "\n",
        "This is a copy of UCI ML housing dataset.\n",
        "http://archive.ics.uci.edu/ml/datasets/Housing\n",
        "\n",
        "\n",
        "This dataset was taken from the StatLib library which is maintained at Carnegie Mellon University.\n",
        "\n",
        "The Boston house-price data of Harrison, D. and Rubinfeld, D.L. 'Hedonic\n",
        "prices and the demand for clean air', J. Environ. Economics & Management,\n",
        "vol.5, 81-102, 1978.   Used in Belsley, Kuh & Welsch, 'Regression diagnostics\n",
        "...', Wiley, 1980.   N.B. Various transformations are used in the table on\n",
        "pages 244-261 of the latter.\n",
        "\n",
        "The Boston house-price data has been used in many machine learning papers that address regression\n",
        "problems.   \n",
        "     \n",
        "**References**\n",
        "\n",
        "   - Belsley, Kuh & Welsch, 'Regression diagnostics: Identifying Influential Data and Sources of Collinearity', Wiley, 1980. 244-261.\n",
        "   - Quinlan,R. (1993). Combining Instance-Based and Model-Based Learning. In Proceedings on the Tenth International Conference of Machine Learning, 236-243, University of Massachusetts, Amherst. Morgan Kaufmann.\n",
        "   - many more! (see http://archive.ics.uci.edu/ml/datasets/Housing)\n",
        "\n"
       ]
      }
     ],
     "prompt_number": 2
    },
    {
     "cell_type": "code",
     "collapsed": false,
     "input": [
      "def load_boston():\n",
      "    scaler = StandardScaler()\n",
      "    boston = datasets.load_boston()\n",
      "    X=boston.data\n",
      "    y=boston.target\n",
      "    X = scaler.fit_transform(X)\n",
      "    return train_test_split(X,y)"
     ],
     "language": "python",
     "metadata": {},
     "outputs": [],
     "prompt_number": 3
    },
    {
     "cell_type": "code",
     "collapsed": false,
     "input": [
      "X_train, X_test, y_train, y_test = load_boston()"
     ],
     "language": "python",
     "metadata": {},
     "outputs": [],
     "prompt_number": 4
    },
    {
     "cell_type": "code",
     "collapsed": false,
     "input": [
      "X_train.shape"
     ],
     "language": "python",
     "metadata": {},
     "outputs": [
      {
       "metadata": {},
       "output_type": "pyout",
       "prompt_number": 5,
       "text": [
        "(379L, 13L)"
       ]
      }
     ],
     "prompt_number": 5
    },
    {
     "cell_type": "code",
     "collapsed": false,
     "input": [
      "clf = LinearRegression()\n",
      "clf.fit(X_train, y_train)"
     ],
     "language": "python",
     "metadata": {},
     "outputs": [
      {
       "metadata": {},
       "output_type": "pyout",
       "prompt_number": 6,
       "text": [
        "LinearRegression(copy_X=True, fit_intercept=True, normalize=False)"
       ]
      }
     ],
     "prompt_number": 6
    },
    {
     "cell_type": "code",
     "collapsed": false,
     "input": [
      "zip (y_test, clf.predict(X_test))"
     ],
     "language": "python",
     "metadata": {},
     "outputs": [
      {
       "metadata": {},
       "output_type": "pyout",
       "prompt_number": 7,
       "text": [
        "[(7.0, 7.3527936426933422),\n",
        " (21.699999999999999, 20.283015377257676),\n",
        " (5.5999999999999996, 11.008664628770052),\n",
        " (14.5, 18.541272455812649),\n",
        " (25.0, 27.705035240277809),\n",
        " (33.100000000000001, 32.456039589681325),\n",
        " (22.5, 17.626922641386386),\n",
        " (19.899999999999999, 19.597712781732071),\n",
        " (10.199999999999999, 5.7662887575656612),\n",
        " (13.199999999999999, 7.5285185312134413),\n",
        " (17.199999999999999, 16.658518243160401),\n",
        " (8.0999999999999996, 2.376733893797315),\n",
        " (23.699999999999999, 8.6146685639241962),\n",
        " (24.100000000000001, 20.899046768597167),\n",
        " (18.899999999999999, 14.888906856380737),\n",
        " (20.699999999999999, 26.936090127335987),\n",
        " (19.600000000000001, 18.881880635640631),\n",
        " (12.0, 11.329225187448438),\n",
        " (8.3000000000000007, 9.6230533489709309),\n",
        " (31.699999999999999, 33.541511234185961),\n",
        " (13.9, 13.577278270827733),\n",
        " (13.6, 12.349506196214465),\n",
        " (19.699999999999999, 21.222169437499822),\n",
        " (23.899999999999999, 25.635791666500356),\n",
        " (36.100000000000001, 32.835924847768112),\n",
        " (16.100000000000001, 21.871904987312625),\n",
        " (19.600000000000001, 21.583203873498142),\n",
        " (7.4000000000000004, 4.5185269903620906),\n",
        " (23.100000000000001, 25.104882154564031),\n",
        " (26.600000000000001, 21.950520061794013),\n",
        " (13.800000000000001, 16.837231994670965),\n",
        " (28.0, 28.333729639030494),\n",
        " (21.399999999999999, 20.23732286026269),\n",
        " (13.4, 16.423443047836795),\n",
        " (33.200000000000003, 36.792918819912217),\n",
        " (20.399999999999999, 19.950841821256383),\n",
        " (32.700000000000003, 30.236971951503527),\n",
        " (41.299999999999997, 34.085954702617656),\n",
        " (23.5, 30.484627157609946),\n",
        " (21.699999999999999, 24.43609246527005),\n",
        " (21.399999999999999, 23.848832196038146),\n",
        " (15.199999999999999, 15.460283260252716),\n",
        " (19.0, 14.682206615697194),\n",
        " (39.799999999999997, 34.461899195207408),\n",
        " (23.899999999999999, 27.805604214034819),\n",
        " (19.899999999999999, 20.183763877896212),\n",
        " (21.199999999999999, 22.262250596077621),\n",
        " (19.300000000000001, 17.904211601841087),\n",
        " (17.5, 16.585865187370718),\n",
        " (21.600000000000001, 26.120887824885063),\n",
        " (20.199999999999999, 15.99043028028896),\n",
        " (24.100000000000001, 29.414713051603869),\n",
        " (20.300000000000001, 23.973130896885429),\n",
        " (19.399999999999999, 23.679371807513995),\n",
        " (22.199999999999999, 24.875591604020237),\n",
        " (24.399999999999999, 24.482669176271123),\n",
        " (21.199999999999999, 21.015842738171639),\n",
        " (18.899999999999999, 19.08573374161379),\n",
        " (19.399999999999999, 19.469370830202003),\n",
        " (25.0, 22.574882804697193),\n",
        " (33.100000000000001, 36.076051833431563),\n",
        " (24.800000000000001, 26.669622278866655),\n",
        " (18.5, 19.63542589249602),\n",
        " (13.300000000000001, 15.541270291479984),\n",
        " (22.600000000000001, 27.035780027824998),\n",
        " (19.100000000000001, 16.745118400950545),\n",
        " (26.699999999999999, 34.609479037207414),\n",
        " (21.0, 21.073576259103703),\n",
        " (37.200000000000003, 32.916231478982695),\n",
        " (17.0, 23.557853739288582),\n",
        " (37.299999999999997, 34.376347754397678),\n",
        " (37.0, 30.340823986903203),\n",
        " (44.0, 37.615920289381251),\n",
        " (13.800000000000001, 10.75277086542647),\n",
        " (29.100000000000001, 30.198221669152325),\n",
        " (15.1, 17.453008340423587),\n",
        " (21.399999999999999, 22.982022326174839),\n",
        " (20.300000000000001, 22.96383131553738),\n",
        " (23.899999999999999, 27.477532206278951),\n",
        " (13.4, 12.715705743187254),\n",
        " (25.100000000000001, 31.625560751329751),\n",
        " (24.5, 27.755036724621526),\n",
        " (43.5, 39.161288044418619),\n",
        " (23.300000000000001, 27.745431917947595),\n",
        " (35.200000000000003, 36.323990512571278),\n",
        " (8.8000000000000007, 2.8007239523149892),\n",
        " (17.600000000000001, 17.245113516993356),\n",
        " (17.699999999999999, 20.180104443463378),\n",
        " (31.5, 31.052118372288732),\n",
        " (23.899999999999999, 28.030194626130704),\n",
        " (14.5, 18.157593308502157),\n",
        " (24.699999999999999, 25.280520301046984),\n",
        " (21.100000000000001, 20.722348854077715),\n",
        " (21.600000000000001, 25.492763548018374),\n",
        " (15.300000000000001, 22.09351380535211),\n",
        " (24.699999999999999, 24.148988677433003),\n",
        " (25.300000000000001, 24.956359237918992),\n",
        " (11.800000000000001, 12.334324768108228),\n",
        " (29.0, 31.542888334545562),\n",
        " (22.800000000000001, 24.396956309223587),\n",
        " (19.800000000000001, 22.660933040338755),\n",
        " (50.0, 39.421970309226317),\n",
        " (25.0, 29.037235371368588),\n",
        " (13.5, 13.108429695331289),\n",
        " (22.899999999999999, 20.690588876109128),\n",
        " (17.399999999999999, 15.72017921517838),\n",
        " (19.699999999999999, 13.274237459553794),\n",
        " (15.4, 17.716465121372501),\n",
        " (16.600000000000001, 15.7623420192292),\n",
        " (14.5, 13.665580729896597),\n",
        " (23.0, 23.763080306038063),\n",
        " (30.100000000000001, 30.211814968219926),\n",
        " (50.0, 39.979771597663785),\n",
        " (30.100000000000001, 35.543203017189896),\n",
        " (15.0, 18.717985067615682),\n",
        " (19.300000000000001, 20.509897980143968),\n",
        " (10.5, 5.8333936284421775),\n",
        " (34.899999999999999, 34.107255304971851),\n",
        " (13.800000000000001, 4.9262928440794838),\n",
        " (22.0, 27.550041047249092),\n",
        " (22.100000000000001, 27.11351725665984),\n",
        " (17.300000000000001, 15.956836229484868),\n",
        " (25.0, 29.230520462807803),\n",
        " (20.100000000000001, 24.035257544306518),\n",
        " (32.200000000000003, 31.045881350473561),\n",
        " (24.5, 19.773918083300309),\n",
        " (18.399999999999999, 19.722357589409555)]"
       ]
      }
     ],
     "prompt_number": 7
    },
    {
     "cell_type": "code",
     "collapsed": false,
     "input": [
      "from sklearn.metrics import r2_score\n",
      "y_true = [2, -0.5, 2, 9]\n",
      "y_pred = [7.5, 0.0, 2, 10]\n",
      "r2_score(y_true, y_pred)  "
     ],
     "language": "python",
     "metadata": {},
     "outputs": [
      {
       "metadata": {},
       "output_type": "pyout",
       "prompt_number": 20,
       "text": [
        "0.37235367372353678"
       ]
      }
     ],
     "prompt_number": 20
    },
    {
     "cell_type": "code",
     "collapsed": false,
     "input": [
      "y_true = [[0.5, 5], [-1, 4], [9, -3]]\n",
      "y_pred = [[0, 5], [-1, 4], [9, -3]]\n",
      "r2_score(y_true, y_pred)  \n"
     ],
     "language": "python",
     "metadata": {},
     "outputs": [
      {
       "metadata": {},
       "output_type": "pyout",
       "prompt_number": 21,
       "text": [
        "0.99740034662045063"
       ]
      }
     ],
     "prompt_number": 21
    },
    {
     "cell_type": "code",
     "collapsed": false,
     "input": [
      "from sklearn.metrics import mean_squared_error\n",
      "y_true = [4, -0.5, 2, 5]\n",
      "y_pred = [1.5, 0.0, 1, 6]\n",
      "mean_squared_error(y_true, y_pred)\n"
     ],
     "language": "python",
     "metadata": {},
     "outputs": [
      {
       "metadata": {},
       "output_type": "pyout",
       "prompt_number": 15,
       "text": [
        "2.125"
       ]
      }
     ],
     "prompt_number": 15
    },
    {
     "cell_type": "code",
     "collapsed": false,
     "input": [
      "y_true = [[0.5, 10],[-1, 1],[17, -6]]\n",
      "y_pred = [[0, 4],[-1, 2],[15, -5]]\n",
      "mean_squared_error(y_true, y_pred)  \n"
     ],
     "language": "python",
     "metadata": {},
     "outputs": [
      {
       "metadata": {},
       "output_type": "pyout",
       "prompt_number": 19,
       "text": [
        "7.041666666666667"
       ]
      }
     ],
     "prompt_number": 19
    },
    {
     "cell_type": "code",
     "collapsed": false,
     "input": [
      "from sklearn.linear_model import Ridge\n",
      "import numpy as np\n",
      "n_samples, n_features = 10, 5\n",
      "np.random.seed(0)\n",
      "y = np.random.randn(n_samples)\n",
      "X = np.random.randn(n_samples, n_features)\n",
      "clfA = Ridge(alpha=1.0)\n",
      "clfA.fit(X, y) "
     ],
     "language": "python",
     "metadata": {},
     "outputs": [
      {
       "metadata": {},
       "output_type": "pyout",
       "prompt_number": 13,
       "text": [
        "Ridge(alpha=1.0, copy_X=True, fit_intercept=True, max_iter=None,\n",
        "   normalize=False, solver='auto', tol=0.001)"
       ]
      }
     ],
     "prompt_number": 13
    },
    {
     "cell_type": "code",
     "collapsed": false,
     "input": [
      "from sklearn.linear_model import Ridge\n",
      "import numpy as np\n",
      "n_samples, n_features = 10, 5\n",
      "np.random.seed(0)\n",
      "y = np.random.randn(n_samples)\n",
      "X = np.random.randn(n_samples, n_features)\n",
      "clfB = Ridge(alpha=10.0)\n",
      "clfB.fit(X, y) "
     ],
     "language": "python",
     "metadata": {},
     "outputs": [
      {
       "metadata": {},
       "output_type": "pyout",
       "prompt_number": 14,
       "text": [
        "Ridge(alpha=10.0, copy_X=True, fit_intercept=True, max_iter=None,\n",
        "   normalize=False, solver='auto', tol=0.001)"
       ]
      }
     ],
     "prompt_number": 14
    },
    {
     "cell_type": "code",
     "collapsed": false,
     "input": [],
     "language": "python",
     "metadata": {},
     "outputs": []
    }
   ],
   "metadata": {}
  }
 ]
}